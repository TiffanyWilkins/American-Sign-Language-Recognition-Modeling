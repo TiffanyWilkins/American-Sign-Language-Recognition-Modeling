{
 "cells": [
  {
   "cell_type": "code",
   "execution_count": 1,
   "id": "7541715e",
   "metadata": {
    "execution": {
     "iopub.execute_input": "2021-11-04T18:16:43.846840Z",
     "iopub.status.busy": "2021-11-04T18:16:43.845278Z",
     "iopub.status.idle": "2021-11-04T18:16:43.849703Z",
     "shell.execute_reply": "2021-11-04T18:16:43.849173Z",
     "shell.execute_reply.started": "2021-11-04T18:09:46.729992Z"
    },
    "papermill": {
     "duration": 0.026065,
     "end_time": "2021-11-04T18:16:43.849836",
     "exception": false,
     "start_time": "2021-11-04T18:16:43.823771",
     "status": "completed"
    },
    "tags": []
   },
   "outputs": [],
   "source": [
    "### HREF:https://towardsdatascience.com/a-beginners-guide-on-sentiment-analysis-with-rnn-9e100627c02e"
   ]
  },
  {
   "cell_type": "markdown",
   "id": "c8687b4e",
   "metadata": {
    "execution": {
     "iopub.execute_input": "2021-11-04T18:16:43.883812Z",
     "iopub.status.busy": "2021-11-04T18:16:43.883115Z",
     "iopub.status.idle": "2021-11-04T18:16:43.885925Z",
     "shell.execute_reply": "2021-11-04T18:16:43.885430Z",
     "shell.execute_reply.started": "2021-11-04T18:09:46.755166Z"
    },
    "papermill": {
     "duration": 0.020002,
     "end_time": "2021-11-04T18:16:43.886053",
     "exception": false,
     "start_time": "2021-11-04T18:16:43.866051",
     "status": "completed"
    },
    "tags": []
   },
   "source": [
    "### Importing Packages:"
   ]
  },
  {
   "cell_type": "code",
   "execution_count": 2,
   "id": "58500a7d",
   "metadata": {
    "execution": {
     "iopub.execute_input": "2021-11-04T18:16:43.921904Z",
     "iopub.status.busy": "2021-11-04T18:16:43.921300Z",
     "iopub.status.idle": "2021-11-04T18:16:48.478113Z",
     "shell.execute_reply": "2021-11-04T18:16:48.477635Z",
     "shell.execute_reply.started": "2021-11-04T18:09:46.763916Z"
    },
    "papermill": {
     "duration": 4.577616,
     "end_time": "2021-11-04T18:16:48.478251",
     "exception": false,
     "start_time": "2021-11-04T18:16:43.900635",
     "status": "completed"
    },
    "tags": []
   },
   "outputs": [],
   "source": [
    "from keras.datasets import imdb\n",
    "import tensorflow as tf\n",
    "from tensorflow.keras import datasets, layers, models\n",
    "from keras.models import Sequential\n",
    "from keras.layers import Dense\n",
    "from keras.layers import SimpleRNN\n",
    "from keras.layers import Dropout\n",
    "import numpy as np # linear algebra\n",
    "import pandas as pd # data processing, CSV file I/O (e.g. pd.read_csv)\n",
    "import matplotlib.pyplot as plt"
   ]
  },
  {
   "cell_type": "markdown",
   "id": "2bd0cc13",
   "metadata": {
    "execution": {
     "iopub.execute_input": "2021-11-04T18:16:48.512431Z",
     "iopub.status.busy": "2021-11-04T18:16:48.510775Z",
     "iopub.status.idle": "2021-11-04T18:16:48.513010Z",
     "shell.execute_reply": "2021-11-04T18:16:48.513441Z",
     "shell.execute_reply.started": "2021-11-04T18:09:51.323512Z"
    },
    "papermill": {
     "duration": 0.020444,
     "end_time": "2021-11-04T18:16:48.513574",
     "exception": false,
     "start_time": "2021-11-04T18:16:48.493130",
     "status": "completed"
    },
    "tags": []
   },
   "source": [
    "### Loading the data:"
   ]
  },
  {
   "cell_type": "code",
   "execution_count": 3,
   "id": "e820f2c5",
   "metadata": {
    "execution": {
     "iopub.execute_input": "2021-11-04T18:16:48.547149Z",
     "iopub.status.busy": "2021-11-04T18:16:48.546367Z",
     "iopub.status.idle": "2021-11-04T18:16:55.048983Z",
     "shell.execute_reply": "2021-11-04T18:16:55.049551Z",
     "shell.execute_reply.started": "2021-11-04T18:09:51.330909Z"
    },
    "papermill": {
     "duration": 6.521973,
     "end_time": "2021-11-04T18:16:55.049761",
     "exception": false,
     "start_time": "2021-11-04T18:16:48.527788",
     "status": "completed"
    },
    "tags": []
   },
   "outputs": [
    {
     "name": "stdout",
     "output_type": "stream",
     "text": [
      "Loaded dataset with 25000 training samples, 25000 test samples\n"
     ]
    }
   ],
   "source": [
    "vocabulary_size = 5000\n",
    "(X_train, y_train), (X_test, y_test) = imdb.load_data(num_words = vocabulary_size)\n",
    "print('Loaded dataset with {} training samples, {} test samples'.format(len(X_train), len(X_test)))"
   ]
  },
  {
   "cell_type": "code",
   "execution_count": 4,
   "id": "3a859c86",
   "metadata": {
    "execution": {
     "iopub.execute_input": "2021-11-04T18:16:55.087583Z",
     "iopub.status.busy": "2021-11-04T18:16:55.086773Z",
     "iopub.status.idle": "2021-11-04T18:16:55.091334Z",
     "shell.execute_reply": "2021-11-04T18:16:55.090927Z",
     "shell.execute_reply.started": "2021-11-04T18:09:57.087652Z"
    },
    "papermill": {
     "duration": 0.024124,
     "end_time": "2021-11-04T18:16:55.091460",
     "exception": false,
     "start_time": "2021-11-04T18:16:55.067336",
     "status": "completed"
    },
    "tags": []
   },
   "outputs": [
    {
     "name": "stdout",
     "output_type": "stream",
     "text": [
      "---review---\n",
      "[1, 2, 365, 1234, 5, 1156, 354, 11, 14, 2, 2, 7, 1016, 2, 2, 356, 44, 4, 1349, 500, 746, 5, 200, 4, 4132, 11, 2, 2, 1117, 1831, 2, 5, 4831, 26, 6, 2, 4183, 17, 369, 37, 215, 1345, 143, 2, 5, 1838, 8, 1974, 15, 36, 119, 257, 85, 52, 486, 9, 6, 2, 2, 63, 271, 6, 196, 96, 949, 4121, 4, 2, 7, 4, 2212, 2436, 819, 63, 47, 77, 2, 180, 6, 227, 11, 94, 2494, 2, 13, 423, 4, 168, 7, 4, 22, 5, 89, 665, 71, 270, 56, 5, 13, 197, 12, 161, 2, 99, 76, 23, 2, 7, 419, 665, 40, 91, 85, 108, 7, 4, 2084, 5, 4773, 81, 55, 52, 1901]\n",
      "---label---\n",
      "1\n"
     ]
    }
   ],
   "source": [
    "print('---review---')\n",
    "print(X_train[6])\n",
    "print('---label---')\n",
    "print(y_train[6])"
   ]
  },
  {
   "cell_type": "code",
   "execution_count": 5,
   "id": "bcaff2fb",
   "metadata": {
    "execution": {
     "iopub.execute_input": "2021-11-04T18:16:55.136108Z",
     "iopub.status.busy": "2021-11-04T18:16:55.128101Z",
     "iopub.status.idle": "2021-11-04T18:16:55.706325Z",
     "shell.execute_reply": "2021-11-04T18:16:55.706999Z",
     "shell.execute_reply.started": "2021-11-04T18:09:57.095616Z"
    },
    "papermill": {
     "duration": 0.599603,
     "end_time": "2021-11-04T18:16:55.707210",
     "exception": false,
     "start_time": "2021-11-04T18:16:55.107607",
     "status": "completed"
    },
    "tags": []
   },
   "outputs": [
    {
     "name": "stdout",
     "output_type": "stream",
     "text": [
      "---review with words---\n",
      "['the', 'and', 'full', 'involving', 'to', 'impressive', 'boring', 'this', 'as', 'and', 'and', 'br', 'villain', 'and', 'and', 'need', 'has', 'of', 'costumes', 'b', 'message', 'to', 'may', 'of', 'props', 'this', 'and', 'and', 'concept', 'issue', 'and', 'to', \"god's\", 'he', 'is', 'and', 'unfolds', 'movie', 'women', 'like', \"isn't\", 'surely', \"i'm\", 'and', 'to', 'toward', 'in', \"here's\", 'for', 'from', 'did', 'having', 'because', 'very', 'quality', 'it', 'is', 'and', 'and', 'really', 'book', 'is', 'both', 'too', 'worked', 'carl', 'of', 'and', 'br', 'of', 'reviewer', 'closer', 'figure', 'really', 'there', 'will', 'and', 'things', 'is', 'far', 'this', 'make', 'mistakes', 'and', 'was', \"couldn't\", 'of', 'few', 'br', 'of', 'you', 'to', \"don't\", 'female', 'than', 'place', 'she', 'to', 'was', 'between', 'that', 'nothing', 'and', 'movies', 'get', 'are', 'and', 'br', 'yes', 'female', 'just', 'its', 'because', 'many', 'br', 'of', 'overly', 'to', 'descent', 'people', 'time', 'very', 'bland']\n",
      "---label---\n",
      "1\n"
     ]
    }
   ],
   "source": [
    "word2id = imdb.get_word_index()\n",
    "id2word = {i: word for word, i in word2id.items()}\n",
    "print('---review with words---')\n",
    "print([id2word.get(i, ' ') for i in X_train[6]])\n",
    "print('---label---')\n",
    "print(y_train[6])"
   ]
  },
  {
   "cell_type": "code",
   "execution_count": 6,
   "id": "9d8fcd4a",
   "metadata": {},
   "outputs": [],
   "source": [
    "### Maximum and Minimum review length"
   ]
  },
  {
   "cell_type": "code",
   "execution_count": 7,
   "id": "5be6cf19",
   "metadata": {
    "execution": {
     "iopub.execute_input": "2021-11-04T18:16:55.996926Z",
     "iopub.status.busy": "2021-11-04T18:16:55.952379Z",
     "iopub.status.idle": "2021-11-04T18:16:56.001568Z",
     "shell.execute_reply": "2021-11-04T18:16:56.000894Z",
     "shell.execute_reply.started": "2021-11-04T18:09:57.214778Z"
    },
    "papermill": {
     "duration": 0.275474,
     "end_time": "2021-11-04T18:16:56.001731",
     "exception": false,
     "start_time": "2021-11-04T18:16:55.726257",
     "status": "completed"
    },
    "tags": []
   },
   "outputs": [
    {
     "name": "stdout",
     "output_type": "stream",
     "text": [
      "Maximum review length: 2697\n"
     ]
    }
   ],
   "source": [
    "print('Maximum review length: {}'.format(\n",
    "len(max((X_train + X_test), key=len))))"
   ]
  },
  {
   "cell_type": "code",
   "execution_count": 8,
   "id": "2196370f",
   "metadata": {
    "execution": {
     "iopub.execute_input": "2021-11-04T18:16:56.227174Z",
     "iopub.status.busy": "2021-11-04T18:16:56.040151Z",
     "iopub.status.idle": "2021-11-04T18:16:56.231741Z",
     "shell.execute_reply": "2021-11-04T18:16:56.232675Z",
     "shell.execute_reply.started": "2021-11-04T18:09:57.462716Z"
    },
    "papermill": {
     "duration": 0.212504,
     "end_time": "2021-11-04T18:16:56.232865",
     "exception": false,
     "start_time": "2021-11-04T18:16:56.020361",
     "status": "completed"
    },
    "tags": []
   },
   "outputs": [
    {
     "name": "stdout",
     "output_type": "stream",
     "text": [
      "Minimum review length: 14\n"
     ]
    }
   ],
   "source": [
    "print('Minimum review length: {}'.format(\n",
    "len(min((X_test + X_test), key=len))))"
   ]
  },
  {
   "cell_type": "code",
   "execution_count": 9,
   "id": "d0e059a5",
   "metadata": {
    "execution": {
     "iopub.execute_input": "2021-11-04T18:16:56.273893Z",
     "iopub.status.busy": "2021-11-04T18:16:56.273158Z",
     "iopub.status.idle": "2021-11-04T18:16:56.275362Z",
     "shell.execute_reply": "2021-11-04T18:16:56.275768Z",
     "shell.execute_reply.started": "2021-11-04T18:09:57.644972Z"
    },
    "papermill": {
     "duration": 0.024171,
     "end_time": "2021-11-04T18:16:56.275924",
     "exception": false,
     "start_time": "2021-11-04T18:16:56.251753",
     "status": "completed"
    },
    "tags": []
   },
   "outputs": [],
   "source": [
    "### Pad Sequences:"
   ]
  },
  {
   "cell_type": "code",
   "execution_count": 10,
   "id": "9ecad1a9",
   "metadata": {
    "execution": {
     "iopub.execute_input": "2021-11-04T18:16:56.322283Z",
     "iopub.status.busy": "2021-11-04T18:16:56.321159Z",
     "iopub.status.idle": "2021-11-04T18:16:58.847601Z",
     "shell.execute_reply": "2021-11-04T18:16:58.848324Z",
     "shell.execute_reply.started": "2021-11-04T18:09:57.656563Z"
    },
    "papermill": {
     "duration": 2.554375,
     "end_time": "2021-11-04T18:16:58.848588",
     "exception": false,
     "start_time": "2021-11-04T18:16:56.294213",
     "status": "completed"
    },
    "tags": []
   },
   "outputs": [],
   "source": [
    "from keras.preprocessing import sequence\n",
    "max_words = 500\n",
    "X_train = sequence.pad_sequences(X_train, maxlen=max_words)\n",
    "X_test = sequence.pad_sequences(X_test, maxlen=max_words)"
   ]
  },
  {
   "cell_type": "code",
   "execution_count": 11,
   "id": "f0aa66ff",
   "metadata": {},
   "outputs": [
    {
     "data": {
      "text/plain": [
       "array([   0,    0,    0,    0,    0,    0,    0,    0,    0,    0,    0,\n",
       "          0,    0,    0,    0,    0,    0,    0,    0,    0,    0,    0,\n",
       "          0,    0,    0,    0,    0,    0,    0,    0,    0,    0,    0,\n",
       "          0,    0,    0,    0,    0,    0,    0,    0,    0,    0,    0,\n",
       "          0,    0,    0,    0,    0,    0,    0,    0,    0,    0,    0,\n",
       "          0,    0,    0,    0,    0,    0,    0,    0,    0,    0,    0,\n",
       "          0,    0,    0,    0,    0,    0,    0,    0,    0,    0,    0,\n",
       "          0,    0,    0,    0,    0,    0,    0,    0,    0,    0,    0,\n",
       "          0,    0,    0,    0,    0,    0,    0,    0,    0,    0,    0,\n",
       "          0,    0,    0,    0,    0,    0,    0,    0,    0,    0,    0,\n",
       "          0,    0,    0,    0,    0,    0,    0,    0,    0,    0,    0,\n",
       "          0,    0,    0,    0,    0,    0,    0,    0,    0,    0,    0,\n",
       "          0,    0,    0,    0,    0,    0,    0,    0,    0,    0,    0,\n",
       "          0,    0,    0,    0,    0,    0,    0,    0,    0,    0,    0,\n",
       "          0,    0,    0,    0,    0,    0,    0,    0,    0,    0,    0,\n",
       "          0,    0,    0,    0,    0,    0,    0,    0,    0,    0,    0,\n",
       "          0,    0,    0,    0,    0,    0,    0,    0,    0,    0,    0,\n",
       "          0,    0,    0,    0,    0,    0,    0,    0,    0,    0,    0,\n",
       "          0,    0,    0,    0,    0,    0,    0,    0,    0,    0,    0,\n",
       "          0,    0,    0,    0,    0,    0,    0,    0,    0,    0,    0,\n",
       "          0,    0,    0,    0,    0,    0,    0,    0,    0,    0,    0,\n",
       "          0,    0,    0,    0,    0,    0,    0,    0,    0,    0,    0,\n",
       "          0,    0,    0,    0,    0,    0,    0,    0,    0,    0,    0,\n",
       "          0,    0,    0,    0,    0,    0,    0,    0,    0,    0,    0,\n",
       "          0,    0,    0,    0,    0,    0,    0,    0,    0,    0,    0,\n",
       "          0,    0,    0,    0,    0,    0,    0,    0,    0,    0,    0,\n",
       "          0,    0,    0,    0,    0,    0,    0,    0,    0,    0,    0,\n",
       "          0,    0,    0,    0,    0,    0,    0,    0,    0,    0,    0,\n",
       "          0,    0,    0,    0,    0,    0,    0,    0,    0,    0,    0,\n",
       "          0,    0,    0,    0,    0,    0,    0,    0,    0,    0,    0,\n",
       "          0,    0,    0,    0,    0,    0,    0,    0,    0,    0,    0,\n",
       "          0,    0,    0,    0,    0,    0,    0,    0,    0,    0,    0,\n",
       "          0,    0,    0,    0,    0,    0,    0,    0,    0,    0,    0,\n",
       "          0,    0,    0,    0,    0,    0,    0,    0,    0,    0,    0,\n",
       "          0,    0,    0,    1,    2,  365, 1234,    5, 1156,  354,   11,\n",
       "         14,    2,    2,    7, 1016,    2,    2,  356,   44,    4, 1349,\n",
       "        500,  746,    5,  200,    4, 4132,   11,    2,    2, 1117, 1831,\n",
       "          2,    5, 4831,   26,    6,    2, 4183,   17,  369,   37,  215,\n",
       "       1345,  143,    2,    5, 1838,    8, 1974,   15,   36,  119,  257,\n",
       "         85,   52,  486,    9,    6,    2,    2,   63,  271,    6,  196,\n",
       "         96,  949, 4121,    4,    2,    7,    4, 2212, 2436,  819,   63,\n",
       "         47,   77,    2,  180,    6,  227,   11,   94, 2494,    2,   13,\n",
       "        423,    4,  168,    7,    4,   22,    5,   89,  665,   71,  270,\n",
       "         56,    5,   13,  197,   12,  161,    2,   99,   76,   23,    2,\n",
       "          7,  419,  665,   40,   91,   85,  108,    7,    4, 2084,    5,\n",
       "       4773,   81,   55,   52, 1901])"
      ]
     },
     "execution_count": 11,
     "metadata": {},
     "output_type": "execute_result"
    }
   ],
   "source": [
    "## check X_train[6] again\n",
    "\n",
    "X_train[6]"
   ]
  },
  {
   "cell_type": "code",
   "execution_count": 12,
   "id": "26da0260",
   "metadata": {},
   "outputs": [
    {
     "name": "stdout",
     "output_type": "stream",
     "text": [
      "Shape of X_train before reshape : (25000, 500)\n",
      "Shape of y_train before reshape : (25000,)\n"
     ]
    }
   ],
   "source": [
    "print(\"Shape of X_train before reshape :\",X_train.shape)\n",
    "print(\"Shape of y_train before reshape :\",y_train.shape)"
   ]
  },
  {
   "cell_type": "code",
   "execution_count": 13,
   "id": "1e916c20",
   "metadata": {},
   "outputs": [
    {
     "name": "stdout",
     "output_type": "stream",
     "text": [
      "Shape of X_train after reshape : (25000, 500, 1)\n",
      "Shape of y_train after reshape : (25000, 1)\n"
     ]
    }
   ],
   "source": [
    "# Reshaping the train data\n",
    "# Shape of X_train : 1134 x 50 x 1\n",
    "# That means we have 1134 rows, each row has 50 rows and 1 column\n",
    "X_train = np.reshape(X_train, (X_train.shape[0], X_train.shape[1],1))\n",
    "y_train = np.reshape(y_train, (y_train.shape[0],1))\n",
    "\n",
    "print(\"Shape of X_train after reshape :\",X_train.shape)\n",
    "print(\"Shape of y_train after reshape :\",y_train.shape)"
   ]
  },
  {
   "cell_type": "code",
   "execution_count": 14,
   "id": "e8f9e30a",
   "metadata": {
    "execution": {
     "iopub.execute_input": "2021-11-04T18:16:58.922132Z",
     "iopub.status.busy": "2021-11-04T18:16:58.920252Z",
     "iopub.status.idle": "2021-11-04T18:16:58.923036Z",
     "shell.execute_reply": "2021-11-04T18:16:58.923817Z",
     "shell.execute_reply.started": "2021-11-04T18:10:00.100270Z"
    },
    "papermill": {
     "duration": 0.040726,
     "end_time": "2021-11-04T18:16:58.924025",
     "exception": false,
     "start_time": "2021-11-04T18:16:58.883299",
     "status": "completed"
    },
    "tags": []
   },
   "outputs": [],
   "source": [
    "### Building RNN model"
   ]
  },
  {
   "cell_type": "code",
   "execution_count": 15,
   "id": "cefd84fe",
   "metadata": {
    "execution": {
     "iopub.execute_input": "2021-11-04T18:16:58.996705Z",
     "iopub.status.busy": "2021-11-04T18:16:58.995760Z",
     "iopub.status.idle": "2021-11-04T18:17:01.477143Z",
     "shell.execute_reply": "2021-11-04T18:17:01.476383Z",
     "shell.execute_reply.started": "2021-11-04T18:10:00.105114Z"
    },
    "papermill": {
     "duration": 2.520095,
     "end_time": "2021-11-04T18:17:01.477322",
     "exception": false,
     "start_time": "2021-11-04T18:16:58.957227",
     "status": "completed"
    },
    "tags": []
   },
   "outputs": [],
   "source": [
    "# initializing the RNN\n",
    "model = models.Sequential()\n",
    "\n",
    "# adding first RNN layer and dropout regularization\n",
    "model.add(layers.SimpleRNN(units = 500, activation = \"tanh\", return_sequences = True, input_shape = (500, 1)))\n",
    "\n",
    "# adding a dropout layer\n",
    "model.add(layers.Dropout(0.2))\n",
    "\n",
    "# adding third RNN layer and dropout regularization\n",
    "model.add(layers.SimpleRNN(units = 500, activation = \"tanh\", return_sequences = True))\n",
    "\n",
    "# adding a dropout layer\n",
    "model.add(layers.Dropout(0.2))\n",
    "\n",
    "# adding fourth RNN layer and dropout regularization\n",
    "model.add(layers.SimpleRNN(units = 500, activation = \"tanh\", return_sequences = False))\n",
    "\n",
    "# adding a dropout layer\n",
    "model.add(layers.Dropout(0.2))\n",
    "\n",
    "# adding the output layer\n",
    "model.add(layers.Dense(1, activation='sigmoid'))"
   ]
  },
  {
   "cell_type": "code",
   "execution_count": 16,
   "id": "42387f24",
   "metadata": {},
   "outputs": [
    {
     "name": "stdout",
     "output_type": "stream",
     "text": [
      "Model: \"sequential\"\n",
      "_________________________________________________________________\n",
      "Layer (type)                 Output Shape              Param #   \n",
      "=================================================================\n",
      "simple_rnn (SimpleRNN)       (None, 500, 500)          251000    \n",
      "_________________________________________________________________\n",
      "dropout (Dropout)            (None, 500, 500)          0         \n",
      "_________________________________________________________________\n",
      "simple_rnn_1 (SimpleRNN)     (None, 500, 500)          500500    \n",
      "_________________________________________________________________\n",
      "dropout_1 (Dropout)          (None, 500, 500)          0         \n",
      "_________________________________________________________________\n",
      "simple_rnn_2 (SimpleRNN)     (None, 500)               500500    \n",
      "_________________________________________________________________\n",
      "dropout_2 (Dropout)          (None, 500)               0         \n",
      "_________________________________________________________________\n",
      "dense (Dense)                (None, 1)                 501       \n",
      "=================================================================\n",
      "Total params: 1,252,501\n",
      "Trainable params: 1,252,501\n",
      "Non-trainable params: 0\n",
      "_________________________________________________________________\n"
     ]
    }
   ],
   "source": [
    "model.summary()"
   ]
  },
  {
   "cell_type": "code",
   "execution_count": 17,
   "id": "e9765d14",
   "metadata": {
    "execution": {
     "iopub.execute_input": "2021-11-04T18:17:01.525342Z",
     "iopub.status.busy": "2021-11-04T18:17:01.524483Z",
     "iopub.status.idle": "2021-11-04T18:17:01.526748Z",
     "shell.execute_reply": "2021-11-04T18:17:01.527186Z",
     "shell.execute_reply.started": "2021-11-04T18:10:02.644989Z"
    },
    "papermill": {
     "duration": 0.027699,
     "end_time": "2021-11-04T18:17:01.527319",
     "exception": false,
     "start_time": "2021-11-04T18:17:01.499620",
     "status": "completed"
    },
    "tags": []
   },
   "outputs": [],
   "source": [
    "### Evaluate the model"
   ]
  },
  {
   "cell_type": "code",
   "execution_count": 18,
   "id": "9fe2d7fa",
   "metadata": {
    "execution": {
     "iopub.execute_input": "2021-11-04T18:17:01.575715Z",
     "iopub.status.busy": "2021-11-04T18:17:01.574835Z",
     "iopub.status.idle": "2021-11-04T18:17:01.582085Z",
     "shell.execute_reply": "2021-11-04T18:17:01.581656Z",
     "shell.execute_reply.started": "2021-11-04T18:10:02.652195Z"
    },
    "papermill": {
     "duration": 0.034615,
     "end_time": "2021-11-04T18:17:01.582195",
     "exception": false,
     "start_time": "2021-11-04T18:17:01.547580",
     "status": "completed"
    },
    "tags": []
   },
   "outputs": [],
   "source": [
    "model.compile(loss='binary_crossentropy', \n",
    "             optimizer='adam', \n",
    "             metrics=['accuracy'])"
   ]
  },
  {
   "cell_type": "code",
   "execution_count": 19,
   "id": "e8295182",
   "metadata": {
    "execution": {
     "iopub.execute_input": "2021-11-04T18:17:01.624333Z",
     "iopub.status.busy": "2021-11-04T18:17:01.623480Z",
     "iopub.status.idle": "2021-11-04T18:17:01.625999Z",
     "shell.execute_reply": "2021-11-04T18:17:01.625534Z",
     "shell.execute_reply.started": "2021-11-04T18:10:02.667435Z"
    },
    "papermill": {
     "duration": 0.024713,
     "end_time": "2021-11-04T18:17:01.626104",
     "exception": false,
     "start_time": "2021-11-04T18:17:01.601391",
     "status": "completed"
    },
    "tags": []
   },
   "outputs": [],
   "source": [
    "### Training may take a while, so grab a cup of coffee, or better, go for a run! :)\n",
    "\n",
    "### Or you can use Kaggle GPU or google colab(Or any GPU's) for faster processing."
   ]
  },
  {
   "cell_type": "code",
   "execution_count": 20,
   "id": "db1f0c16",
   "metadata": {
    "execution": {
     "iopub.execute_input": "2021-11-04T18:17:01.669184Z",
     "iopub.status.busy": "2021-11-04T18:17:01.668497Z",
     "iopub.status.idle": "2021-11-04T18:17:44.444112Z",
     "shell.execute_reply": "2021-11-04T18:17:44.444583Z",
     "shell.execute_reply.started": "2021-11-04T18:10:02.673468Z"
    },
    "papermill": {
     "duration": 42.799758,
     "end_time": "2021-11-04T18:17:44.444743",
     "exception": false,
     "start_time": "2021-11-04T18:17:01.644985",
     "status": "completed"
    },
    "tags": []
   },
   "outputs": [
    {
     "name": "stdout",
     "output_type": "stream",
     "text": [
      "196/196 [==============================] - 3797s 19s/step - loss: 0.7784 - accuracy: 0.5034\n"
     ]
    },
    {
     "data": {
      "text/plain": [
       "<keras.callbacks.History at 0x19b868a0af0>"
      ]
     },
     "execution_count": 20,
     "metadata": {},
     "output_type": "execute_result"
    }
   ],
   "source": [
    "## fit the model\n",
    "\n",
    "model.fit(X_train, y_train, epochs = 1, batch_size = 128)"
   ]
  },
  {
   "cell_type": "code",
   "execution_count": 21,
   "id": "4abc685a",
   "metadata": {},
   "outputs": [
    {
     "name": "stdout",
     "output_type": "stream",
     "text": [
      "Shape of X_test after reshape : (25000, 500, 1)\n",
      "Shape of y_test after reshape : (25000, 1)\n"
     ]
    }
   ],
   "source": [
    "### Reshaping:\n",
    "\n",
    "X_test = np.reshape(X_test, (X_test.shape[0],X_test.shape[1],1))  # reshape to 3D array\n",
    "y_test = np.reshape(y_test, (-1,1))  # reshape to 2D array\n",
    "print(\"Shape of X_test after reshape :\",X_test.shape)\n",
    "print(\"Shape of y_test after reshape :\",y_test.shape)"
   ]
  },
  {
   "cell_type": "code",
   "execution_count": null,
   "id": "274180e1",
   "metadata": {
    "execution": {
     "iopub.execute_input": "2021-11-04T18:17:44.773134Z",
     "iopub.status.busy": "2021-11-04T18:17:44.772214Z",
     "iopub.status.idle": "2021-11-04T18:17:52.139148Z",
     "shell.execute_reply": "2021-11-04T18:17:52.139629Z",
     "shell.execute_reply.started": "2021-11-04T18:10:45.083539Z"
    },
    "papermill": {
     "duration": 7.554973,
     "end_time": "2021-11-04T18:17:52.139804",
     "exception": false,
     "start_time": "2021-11-04T18:17:44.584831",
     "status": "completed"
    },
    "tags": []
   },
   "outputs": [],
   "source": [
    "scores = model.evaluate(X_test, y_test, verbose=0)\n",
    "print('Test accuracy:', scores[1])"
   ]
  }
 ],
 "metadata": {
  "kernelspec": {
   "display_name": "Python 3 (ipykernel)",
   "language": "python",
   "name": "python3"
  },
  "language_info": {
   "codemirror_mode": {
    "name": "ipython",
    "version": 3
   },
   "file_extension": ".py",
   "mimetype": "text/x-python",
   "name": "python",
   "nbconvert_exporter": "python",
   "pygments_lexer": "ipython3",
   "version": "3.8.8"
  },
  "papermill": {
   "default_parameters": {},
   "duration": 80.43997,
   "end_time": "2021-11-04T18:17:56.833673",
   "environment_variables": {},
   "exception": null,
   "input_path": "__notebook__.ipynb",
   "output_path": "__notebook__.ipynb",
   "parameters": {},
   "start_time": "2021-11-04T18:16:36.393703",
   "version": "2.3.3"
  }
 },
 "nbformat": 4,
 "nbformat_minor": 5
}
